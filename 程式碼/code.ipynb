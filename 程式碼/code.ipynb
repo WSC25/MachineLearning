{
 "cells": [
  {
   "cell_type": "code",
   "execution_count": 1,
   "metadata": {},
   "outputs": [
    {
     "data": {
      "text/html": [
       "<div>\n",
       "<style scoped>\n",
       "    .dataframe tbody tr th:only-of-type {\n",
       "        vertical-align: middle;\n",
       "    }\n",
       "\n",
       "    .dataframe tbody tr th {\n",
       "        vertical-align: top;\n",
       "    }\n",
       "\n",
       "    .dataframe thead th {\n",
       "        text-align: right;\n",
       "    }\n",
       "</style>\n",
       "<table border=\"1\" class=\"dataframe\">\n",
       "  <thead>\n",
       "    <tr style=\"text-align: right;\">\n",
       "      <th></th>\n",
       "      <th>Unnamed: 0</th>\n",
       "      <th>ID</th>\n",
       "      <th>ROA</th>\n",
       "      <th>ROE</th>\n",
       "      <th>Operating gross profit margin</th>\n",
       "      <th>cash flow</th>\n",
       "      <th>Debt ratio</th>\n",
       "      <th>Total asset turnover</th>\n",
       "      <th>After-tax net profit growth rate</th>\n",
       "      <th>Growth_CLass</th>\n",
       "      <th>rate</th>\n",
       "    </tr>\n",
       "  </thead>\n",
       "  <tbody>\n",
       "    <tr>\n",
       "      <th>0</th>\n",
       "      <td>0</td>\n",
       "      <td>1101</td>\n",
       "      <td>6.74</td>\n",
       "      <td>11.93</td>\n",
       "      <td>32.87</td>\n",
       "      <td>25091819</td>\n",
       "      <td>43.82</td>\n",
       "      <td>0.30</td>\n",
       "      <td>9.96</td>\n",
       "      <td>1</td>\n",
       "      <td>0</td>\n",
       "    </tr>\n",
       "    <tr>\n",
       "      <th>1</th>\n",
       "      <td>1</td>\n",
       "      <td>1102</td>\n",
       "      <td>5.92</td>\n",
       "      <td>10.36</td>\n",
       "      <td>29.18</td>\n",
       "      <td>9337891</td>\n",
       "      <td>42.82</td>\n",
       "      <td>0.27</td>\n",
       "      <td>-15.60</td>\n",
       "      <td>1</td>\n",
       "      <td>0</td>\n",
       "    </tr>\n",
       "    <tr>\n",
       "      <th>2</th>\n",
       "      <td>2</td>\n",
       "      <td>1103</td>\n",
       "      <td>5.39</td>\n",
       "      <td>8.78</td>\n",
       "      <td>-6.98</td>\n",
       "      <td>-67742</td>\n",
       "      <td>38.45</td>\n",
       "      <td>0.05</td>\n",
       "      <td>30.48</td>\n",
       "      <td>2</td>\n",
       "      <td>0</td>\n",
       "    </tr>\n",
       "    <tr>\n",
       "      <th>3</th>\n",
       "      <td>3</td>\n",
       "      <td>1104</td>\n",
       "      <td>5.64</td>\n",
       "      <td>7.26</td>\n",
       "      <td>16.72</td>\n",
       "      <td>1067217</td>\n",
       "      <td>22.06</td>\n",
       "      <td>0.23</td>\n",
       "      <td>10.35</td>\n",
       "      <td>1</td>\n",
       "      <td>0</td>\n",
       "    </tr>\n",
       "    <tr>\n",
       "      <th>4</th>\n",
       "      <td>4</td>\n",
       "      <td>1108</td>\n",
       "      <td>5.17</td>\n",
       "      <td>8.84</td>\n",
       "      <td>15.82</td>\n",
       "      <td>306777</td>\n",
       "      <td>41.99</td>\n",
       "      <td>0.59</td>\n",
       "      <td>754.54</td>\n",
       "      <td>3</td>\n",
       "      <td>1</td>\n",
       "    </tr>\n",
       "    <tr>\n",
       "      <th>...</th>\n",
       "      <td>...</td>\n",
       "      <td>...</td>\n",
       "      <td>...</td>\n",
       "      <td>...</td>\n",
       "      <td>...</td>\n",
       "      <td>...</td>\n",
       "      <td>...</td>\n",
       "      <td>...</td>\n",
       "      <td>...</td>\n",
       "      <td>...</td>\n",
       "      <td>...</td>\n",
       "    </tr>\n",
       "    <tr>\n",
       "      <th>927</th>\n",
       "      <td>960</td>\n",
       "      <td>9944</td>\n",
       "      <td>1.14</td>\n",
       "      <td>2.00</td>\n",
       "      <td>26.88</td>\n",
       "      <td>-301460</td>\n",
       "      <td>42.01</td>\n",
       "      <td>0.46</td>\n",
       "      <td>325.81</td>\n",
       "      <td>3</td>\n",
       "      <td>1</td>\n",
       "    </tr>\n",
       "    <tr>\n",
       "      <th>928</th>\n",
       "      <td>961</td>\n",
       "      <td>9945</td>\n",
       "      <td>20.81</td>\n",
       "      <td>34.27</td>\n",
       "      <td>20.64</td>\n",
       "      <td>12668665</td>\n",
       "      <td>36.17</td>\n",
       "      <td>0.11</td>\n",
       "      <td>-3.24</td>\n",
       "      <td>1</td>\n",
       "      <td>0</td>\n",
       "    </tr>\n",
       "    <tr>\n",
       "      <th>929</th>\n",
       "      <td>962</td>\n",
       "      <td>9946</td>\n",
       "      <td>1.70</td>\n",
       "      <td>2.88</td>\n",
       "      <td>29.23</td>\n",
       "      <td>421406</td>\n",
       "      <td>39.88</td>\n",
       "      <td>0.13</td>\n",
       "      <td>-88.48</td>\n",
       "      <td>0</td>\n",
       "      <td>0</td>\n",
       "    </tr>\n",
       "    <tr>\n",
       "      <th>930</th>\n",
       "      <td>963</td>\n",
       "      <td>9955</td>\n",
       "      <td>-4.22</td>\n",
       "      <td>-7.42</td>\n",
       "      <td>-1.13</td>\n",
       "      <td>78353</td>\n",
       "      <td>44.85</td>\n",
       "      <td>1.03</td>\n",
       "      <td>-1310.51</td>\n",
       "      <td>0</td>\n",
       "      <td>0</td>\n",
       "    </tr>\n",
       "    <tr>\n",
       "      <th>931</th>\n",
       "      <td>964</td>\n",
       "      <td>9958</td>\n",
       "      <td>8.53</td>\n",
       "      <td>16.21</td>\n",
       "      <td>29.31</td>\n",
       "      <td>-2026657</td>\n",
       "      <td>45.74</td>\n",
       "      <td>0.45</td>\n",
       "      <td>69.45</td>\n",
       "      <td>2</td>\n",
       "      <td>0</td>\n",
       "    </tr>\n",
       "  </tbody>\n",
       "</table>\n",
       "<p>932 rows × 11 columns</p>\n",
       "</div>"
      ],
      "text/plain": [
       "     Unnamed: 0    ID    ROA    ROE  Operating gross profit margin  cash flow  \\\n",
       "0             0  1101   6.74  11.93                          32.87   25091819   \n",
       "1             1  1102   5.92  10.36                          29.18    9337891   \n",
       "2             2  1103   5.39   8.78                          -6.98     -67742   \n",
       "3             3  1104   5.64   7.26                          16.72    1067217   \n",
       "4             4  1108   5.17   8.84                          15.82     306777   \n",
       "..          ...   ...    ...    ...                            ...        ...   \n",
       "927         960  9944   1.14   2.00                          26.88    -301460   \n",
       "928         961  9945  20.81  34.27                          20.64   12668665   \n",
       "929         962  9946   1.70   2.88                          29.23     421406   \n",
       "930         963  9955  -4.22  -7.42                          -1.13      78353   \n",
       "931         964  9958   8.53  16.21                          29.31   -2026657   \n",
       "\n",
       "     Debt ratio  Total asset turnover  After-tax net profit growth rate  \\\n",
       "0         43.82                  0.30                              9.96   \n",
       "1         42.82                  0.27                            -15.60   \n",
       "2         38.45                  0.05                             30.48   \n",
       "3         22.06                  0.23                             10.35   \n",
       "4         41.99                  0.59                            754.54   \n",
       "..          ...                   ...                               ...   \n",
       "927       42.01                  0.46                            325.81   \n",
       "928       36.17                  0.11                             -3.24   \n",
       "929       39.88                  0.13                            -88.48   \n",
       "930       44.85                  1.03                          -1310.51   \n",
       "931       45.74                  0.45                             69.45   \n",
       "\n",
       "     Growth_CLass  rate  \n",
       "0               1     0  \n",
       "1               1     0  \n",
       "2               2     0  \n",
       "3               1     0  \n",
       "4               3     1  \n",
       "..            ...   ...  \n",
       "927             3     1  \n",
       "928             1     0  \n",
       "929             0     0  \n",
       "930             0     0  \n",
       "931             2     0  \n",
       "\n",
       "[932 rows x 11 columns]"
      ]
     },
     "execution_count": 1,
     "metadata": {},
     "output_type": "execute_result"
    }
   ],
   "source": [
    "# 讀取 CSV File\n",
    "from sklearn.ensemble import RandomForestClassifier\n",
    "import pandas as pd # 引用套件並縮寫為 pd\n",
    "df = pd.read_csv('C:/Users/HP/Desktop/mldata/mdata.csv')\n",
    "df"
   ]
  },
  {
   "cell_type": "code",
   "execution_count": 2,
   "metadata": {},
   "outputs": [],
   "source": [
    "X = df[['ROA', 'ROE', 'Operating gross profit margin','cash flow','Debt ratio','Total asset turnover']]\n",
    "#y = df['Growth_CLass']\n",
    "y = df['rate']"
   ]
  },
  {
   "cell_type": "code",
   "execution_count": 3,
   "metadata": {},
   "outputs": [],
   "source": [
    "from sklearn.model_selection import train_test_split"
   ]
  },
  {
   "cell_type": "code",
   "execution_count": 4,
   "metadata": {},
   "outputs": [],
   "source": [
    "X_train, X_test, y_train, y_test = train_test_split(X, y, test_size=0.25)"
   ]
  },
  {
   "cell_type": "code",
   "execution_count": 5,
   "metadata": {},
   "outputs": [
    {
     "data": {
      "text/plain": [
       "Unnamed: 0                          0\n",
       "ID                                  0\n",
       "ROA                                 0\n",
       "ROE                                 0\n",
       "Operating gross profit margin       0\n",
       "cash flow                           0\n",
       "Debt ratio                          0\n",
       "Total asset turnover                0\n",
       "After-tax net profit growth rate    0\n",
       "Growth_CLass                        0\n",
       "rate                                0\n",
       "dtype: int64"
      ]
     },
     "execution_count": 5,
     "metadata": {},
     "output_type": "execute_result"
    }
   ],
   "source": [
    "df.isnull().sum()"
   ]
  },
  {
   "cell_type": "code",
   "execution_count": 6,
   "metadata": {},
   "outputs": [
    {
     "data": {
      "text/plain": [
       "RandomForestClassifier(max_depth=3, n_estimators=10)"
      ]
     },
     "execution_count": 6,
     "metadata": {},
     "output_type": "execute_result"
    }
   ],
   "source": [
    "from sklearn.ensemble import RandomForestClassifier\n",
    "rfc = RandomForestClassifier(max_depth = 3, n_estimators = 10)\n",
    "rfc.fit(X_train, y_train)"
   ]
  },
  {
   "cell_type": "code",
   "execution_count": 7,
   "metadata": {},
   "outputs": [
    {
     "name": "stdout",
     "output_type": "stream",
     "text": [
      "The accuracy of Random Forest Classifier on testing set: 0.45064377682403434\n"
     ]
    }
   ],
   "source": [
    "print('The accuracy of Random Forest Classifier on testing set:', rfc.score(X_test, y_test))"
   ]
  },
  {
   "cell_type": "code",
   "execution_count": 8,
   "metadata": {},
   "outputs": [],
   "source": [
    "testResults = rfc.predict(X_test)#rfc模型代號"
   ]
  },
  {
   "cell_type": "code",
   "execution_count": 9,
   "metadata": {},
   "outputs": [
    {
     "name": "stderr",
     "output_type": "stream",
     "text": [
      "<ipython-input-9-b1396016042d>:1: SettingWithCopyWarning: \n",
      "A value is trying to be set on a copy of a slice from a DataFrame.\n",
      "Try using .loc[row_indexer,col_indexer] = value instead\n",
      "\n",
      "See the caveats in the documentation: https://pandas.pydata.org/pandas-docs/stable/user_guide/indexing.html#returning-a-view-versus-a-copy\n",
      "  X_test['預測'] = testResults\n",
      "<ipython-input-9-b1396016042d>:2: SettingWithCopyWarning: \n",
      "A value is trying to be set on a copy of a slice from a DataFrame.\n",
      "Try using .loc[row_indexer,col_indexer] = value instead\n",
      "\n",
      "See the caveats in the documentation: https://pandas.pydata.org/pandas-docs/stable/user_guide/indexing.html#returning-a-view-versus-a-copy\n",
      "  X_test['真實'] = y_test\n"
     ]
    }
   ],
   "source": [
    "X_test['預測'] = testResults\n",
    "X_test['真實'] = y_test"
   ]
  },
  {
   "cell_type": "code",
   "execution_count": 10,
   "metadata": {},
   "outputs": [
    {
     "name": "stderr",
     "output_type": "stream",
     "text": [
      "<ipython-input-10-c464ee3ff0c6>:1: SettingWithCopyWarning: \n",
      "A value is trying to be set on a copy of a slice from a DataFrame.\n",
      "Try using .loc[row_indexer,col_indexer] = value instead\n",
      "\n",
      "See the caveats in the documentation: https://pandas.pydata.org/pandas-docs/stable/user_guide/indexing.html#returning-a-view-versus-a-copy\n",
      "  X_test['不同'] = X_test['預測'] - X_test['真實']\n"
     ]
    }
   ],
   "source": [
    "X_test['不同'] = X_test['預測'] - X_test['真實']"
   ]
  },
  {
   "cell_type": "code",
   "execution_count": 11,
   "metadata": {},
   "outputs": [
    {
     "data": {
      "text/html": [
       "<div>\n",
       "<style scoped>\n",
       "    .dataframe tbody tr th:only-of-type {\n",
       "        vertical-align: middle;\n",
       "    }\n",
       "\n",
       "    .dataframe tbody tr th {\n",
       "        vertical-align: top;\n",
       "    }\n",
       "\n",
       "    .dataframe thead th {\n",
       "        text-align: right;\n",
       "    }\n",
       "</style>\n",
       "<table border=\"1\" class=\"dataframe\">\n",
       "  <thead>\n",
       "    <tr style=\"text-align: right;\">\n",
       "      <th></th>\n",
       "      <th>ROA</th>\n",
       "      <th>ROE</th>\n",
       "      <th>Operating gross profit margin</th>\n",
       "      <th>cash flow</th>\n",
       "      <th>Debt ratio</th>\n",
       "      <th>Total asset turnover</th>\n",
       "      <th>預測</th>\n",
       "      <th>真實</th>\n",
       "      <th>不同</th>\n",
       "    </tr>\n",
       "  </thead>\n",
       "  <tbody>\n",
       "    <tr>\n",
       "      <th>116</th>\n",
       "      <td>10.32</td>\n",
       "      <td>16.77</td>\n",
       "      <td>22.56</td>\n",
       "      <td>218232</td>\n",
       "      <td>38.69</td>\n",
       "      <td>0.72</td>\n",
       "      <td>1</td>\n",
       "      <td>3</td>\n",
       "      <td>-2</td>\n",
       "    </tr>\n",
       "    <tr>\n",
       "      <th>14</th>\n",
       "      <td>9.36</td>\n",
       "      <td>12.68</td>\n",
       "      <td>19.63</td>\n",
       "      <td>788042</td>\n",
       "      <td>23.90</td>\n",
       "      <td>0.90</td>\n",
       "      <td>1</td>\n",
       "      <td>2</td>\n",
       "      <td>-1</td>\n",
       "    </tr>\n",
       "    <tr>\n",
       "      <th>77</th>\n",
       "      <td>-1.45</td>\n",
       "      <td>-10.31</td>\n",
       "      <td>4.71</td>\n",
       "      <td>-2625052</td>\n",
       "      <td>82.96</td>\n",
       "      <td>0.30</td>\n",
       "      <td>0</td>\n",
       "      <td>1</td>\n",
       "      <td>-1</td>\n",
       "    </tr>\n",
       "    <tr>\n",
       "      <th>459</th>\n",
       "      <td>2.54</td>\n",
       "      <td>8.44</td>\n",
       "      <td>24.35</td>\n",
       "      <td>896705</td>\n",
       "      <td>68.89</td>\n",
       "      <td>0.42</td>\n",
       "      <td>1</td>\n",
       "      <td>0</td>\n",
       "      <td>1</td>\n",
       "    </tr>\n",
       "    <tr>\n",
       "      <th>21</th>\n",
       "      <td>21.79</td>\n",
       "      <td>30.19</td>\n",
       "      <td>14.04</td>\n",
       "      <td>868750</td>\n",
       "      <td>26.90</td>\n",
       "      <td>2.87</td>\n",
       "      <td>3</td>\n",
       "      <td>2</td>\n",
       "      <td>1</td>\n",
       "    </tr>\n",
       "    <tr>\n",
       "      <th>...</th>\n",
       "      <td>...</td>\n",
       "      <td>...</td>\n",
       "      <td>...</td>\n",
       "      <td>...</td>\n",
       "      <td>...</td>\n",
       "      <td>...</td>\n",
       "      <td>...</td>\n",
       "      <td>...</td>\n",
       "      <td>...</td>\n",
       "    </tr>\n",
       "    <tr>\n",
       "      <th>275</th>\n",
       "      <td>19.41</td>\n",
       "      <td>28.10</td>\n",
       "      <td>53.10</td>\n",
       "      <td>99488004</td>\n",
       "      <td>32.97</td>\n",
       "      <td>0.53</td>\n",
       "      <td>1</td>\n",
       "      <td>2</td>\n",
       "      <td>-1</td>\n",
       "    </tr>\n",
       "    <tr>\n",
       "      <th>762</th>\n",
       "      <td>5.48</td>\n",
       "      <td>16.20</td>\n",
       "      <td>13.57</td>\n",
       "      <td>-624372</td>\n",
       "      <td>61.08</td>\n",
       "      <td>0.95</td>\n",
       "      <td>2</td>\n",
       "      <td>3</td>\n",
       "      <td>-1</td>\n",
       "    </tr>\n",
       "    <tr>\n",
       "      <th>720</th>\n",
       "      <td>-3.04</td>\n",
       "      <td>-7.38</td>\n",
       "      <td>18.93</td>\n",
       "      <td>-291332</td>\n",
       "      <td>62.28</td>\n",
       "      <td>0.76</td>\n",
       "      <td>0</td>\n",
       "      <td>2</td>\n",
       "      <td>-2</td>\n",
       "    </tr>\n",
       "    <tr>\n",
       "      <th>111</th>\n",
       "      <td>4.97</td>\n",
       "      <td>12.39</td>\n",
       "      <td>15.98</td>\n",
       "      <td>155257</td>\n",
       "      <td>59.19</td>\n",
       "      <td>0.98</td>\n",
       "      <td>2</td>\n",
       "      <td>1</td>\n",
       "      <td>1</td>\n",
       "    </tr>\n",
       "    <tr>\n",
       "      <th>638</th>\n",
       "      <td>4.07</td>\n",
       "      <td>6.25</td>\n",
       "      <td>36.24</td>\n",
       "      <td>255569</td>\n",
       "      <td>40.58</td>\n",
       "      <td>0.50</td>\n",
       "      <td>1</td>\n",
       "      <td>0</td>\n",
       "      <td>1</td>\n",
       "    </tr>\n",
       "  </tbody>\n",
       "</table>\n",
       "<p>128 rows × 9 columns</p>\n",
       "</div>"
      ],
      "text/plain": [
       "       ROA    ROE  Operating gross profit margin  cash flow  Debt ratio  \\\n",
       "116  10.32  16.77                          22.56     218232       38.69   \n",
       "14    9.36  12.68                          19.63     788042       23.90   \n",
       "77   -1.45 -10.31                           4.71   -2625052       82.96   \n",
       "459   2.54   8.44                          24.35     896705       68.89   \n",
       "21   21.79  30.19                          14.04     868750       26.90   \n",
       "..     ...    ...                            ...        ...         ...   \n",
       "275  19.41  28.10                          53.10   99488004       32.97   \n",
       "762   5.48  16.20                          13.57    -624372       61.08   \n",
       "720  -3.04  -7.38                          18.93    -291332       62.28   \n",
       "111   4.97  12.39                          15.98     155257       59.19   \n",
       "638   4.07   6.25                          36.24     255569       40.58   \n",
       "\n",
       "     Total asset turnover  預測  真實  不同  \n",
       "116                  0.72   1   3  -2  \n",
       "14                   0.90   1   2  -1  \n",
       "77                   0.30   0   1  -1  \n",
       "459                  0.42   1   0   1  \n",
       "21                   2.87   3   2   1  \n",
       "..                    ...  ..  ..  ..  \n",
       "275                  0.53   1   2  -1  \n",
       "762                  0.95   2   3  -1  \n",
       "720                  0.76   0   2  -2  \n",
       "111                  0.98   2   1   1  \n",
       "638                  0.50   1   0   1  \n",
       "\n",
       "[128 rows x 9 columns]"
      ]
     },
     "execution_count": 11,
     "metadata": {},
     "output_type": "execute_result"
    }
   ],
   "source": [
    "X_test.loc[X_test['不同'] != 0]"
   ]
  },
  {
   "cell_type": "code",
   "execution_count": 12,
   "metadata": {},
   "outputs": [
    {
     "data": {
      "text/html": [
       "<div>\n",
       "<style scoped>\n",
       "    .dataframe tbody tr th:only-of-type {\n",
       "        vertical-align: middle;\n",
       "    }\n",
       "\n",
       "    .dataframe tbody tr th {\n",
       "        vertical-align: top;\n",
       "    }\n",
       "\n",
       "    .dataframe thead th {\n",
       "        text-align: right;\n",
       "    }\n",
       "</style>\n",
       "<table border=\"1\" class=\"dataframe\">\n",
       "  <thead>\n",
       "    <tr style=\"text-align: right;\">\n",
       "      <th></th>\n",
       "      <th>ROA</th>\n",
       "      <th>ROE</th>\n",
       "      <th>Operating gross profit margin</th>\n",
       "      <th>cash flow</th>\n",
       "      <th>Debt ratio</th>\n",
       "      <th>Total asset turnover</th>\n",
       "      <th>預測</th>\n",
       "      <th>真實</th>\n",
       "      <th>不同</th>\n",
       "    </tr>\n",
       "  </thead>\n",
       "  <tbody>\n",
       "    <tr>\n",
       "      <th>409</th>\n",
       "      <td>-2.00</td>\n",
       "      <td>-6.29</td>\n",
       "      <td>14.13</td>\n",
       "      <td>-675343</td>\n",
       "      <td>69.55</td>\n",
       "      <td>0.11</td>\n",
       "      <td>0</td>\n",
       "      <td>0</td>\n",
       "      <td>0</td>\n",
       "    </tr>\n",
       "    <tr>\n",
       "      <th>741</th>\n",
       "      <td>5.77</td>\n",
       "      <td>15.33</td>\n",
       "      <td>7.56</td>\n",
       "      <td>-467023</td>\n",
       "      <td>64.60</td>\n",
       "      <td>2.42</td>\n",
       "      <td>2</td>\n",
       "      <td>2</td>\n",
       "      <td>0</td>\n",
       "    </tr>\n",
       "    <tr>\n",
       "      <th>266</th>\n",
       "      <td>-4.53</td>\n",
       "      <td>-9.30</td>\n",
       "      <td>18.73</td>\n",
       "      <td>-118370</td>\n",
       "      <td>55.19</td>\n",
       "      <td>0.76</td>\n",
       "      <td>0</td>\n",
       "      <td>0</td>\n",
       "      <td>0</td>\n",
       "    </tr>\n",
       "    <tr>\n",
       "      <th>844</th>\n",
       "      <td>10.10</td>\n",
       "      <td>11.68</td>\n",
       "      <td>19.47</td>\n",
       "      <td>1086102</td>\n",
       "      <td>13.18</td>\n",
       "      <td>0.72</td>\n",
       "      <td>1</td>\n",
       "      <td>1</td>\n",
       "      <td>0</td>\n",
       "    </tr>\n",
       "    <tr>\n",
       "      <th>581</th>\n",
       "      <td>15.09</td>\n",
       "      <td>52.18</td>\n",
       "      <td>40.42</td>\n",
       "      <td>-292813</td>\n",
       "      <td>64.48</td>\n",
       "      <td>0.96</td>\n",
       "      <td>3</td>\n",
       "      <td>3</td>\n",
       "      <td>0</td>\n",
       "    </tr>\n",
       "    <tr>\n",
       "      <th>...</th>\n",
       "      <td>...</td>\n",
       "      <td>...</td>\n",
       "      <td>...</td>\n",
       "      <td>...</td>\n",
       "      <td>...</td>\n",
       "      <td>...</td>\n",
       "      <td>...</td>\n",
       "      <td>...</td>\n",
       "      <td>...</td>\n",
       "    </tr>\n",
       "    <tr>\n",
       "      <th>86</th>\n",
       "      <td>-7.63</td>\n",
       "      <td>-23.91</td>\n",
       "      <td>7.79</td>\n",
       "      <td>-479125</td>\n",
       "      <td>71.94</td>\n",
       "      <td>0.54</td>\n",
       "      <td>0</td>\n",
       "      <td>0</td>\n",
       "      <td>0</td>\n",
       "    </tr>\n",
       "    <tr>\n",
       "      <th>229</th>\n",
       "      <td>3.72</td>\n",
       "      <td>7.02</td>\n",
       "      <td>27.23</td>\n",
       "      <td>-1535122</td>\n",
       "      <td>42.98</td>\n",
       "      <td>0.44</td>\n",
       "      <td>1</td>\n",
       "      <td>1</td>\n",
       "      <td>0</td>\n",
       "    </tr>\n",
       "    <tr>\n",
       "      <th>891</th>\n",
       "      <td>-13.19</td>\n",
       "      <td>-46.49</td>\n",
       "      <td>22.45</td>\n",
       "      <td>-1263612</td>\n",
       "      <td>77.06</td>\n",
       "      <td>0.43</td>\n",
       "      <td>0</td>\n",
       "      <td>0</td>\n",
       "      <td>0</td>\n",
       "    </tr>\n",
       "    <tr>\n",
       "      <th>507</th>\n",
       "      <td>8.92</td>\n",
       "      <td>29.78</td>\n",
       "      <td>3.05</td>\n",
       "      <td>-4002398</td>\n",
       "      <td>64.80</td>\n",
       "      <td>3.04</td>\n",
       "      <td>2</td>\n",
       "      <td>2</td>\n",
       "      <td>0</td>\n",
       "    </tr>\n",
       "    <tr>\n",
       "      <th>737</th>\n",
       "      <td>10.63</td>\n",
       "      <td>19.91</td>\n",
       "      <td>19.03</td>\n",
       "      <td>6576714</td>\n",
       "      <td>47.43</td>\n",
       "      <td>1.05</td>\n",
       "      <td>1</td>\n",
       "      <td>1</td>\n",
       "      <td>0</td>\n",
       "    </tr>\n",
       "  </tbody>\n",
       "</table>\n",
       "<p>105 rows × 9 columns</p>\n",
       "</div>"
      ],
      "text/plain": [
       "       ROA    ROE  Operating gross profit margin  cash flow  Debt ratio  \\\n",
       "409  -2.00  -6.29                          14.13    -675343       69.55   \n",
       "741   5.77  15.33                           7.56    -467023       64.60   \n",
       "266  -4.53  -9.30                          18.73    -118370       55.19   \n",
       "844  10.10  11.68                          19.47    1086102       13.18   \n",
       "581  15.09  52.18                          40.42    -292813       64.48   \n",
       "..     ...    ...                            ...        ...         ...   \n",
       "86   -7.63 -23.91                           7.79    -479125       71.94   \n",
       "229   3.72   7.02                          27.23   -1535122       42.98   \n",
       "891 -13.19 -46.49                          22.45   -1263612       77.06   \n",
       "507   8.92  29.78                           3.05   -4002398       64.80   \n",
       "737  10.63  19.91                          19.03    6576714       47.43   \n",
       "\n",
       "     Total asset turnover  預測  真實  不同  \n",
       "409                  0.11   0   0   0  \n",
       "741                  2.42   2   2   0  \n",
       "266                  0.76   0   0   0  \n",
       "844                  0.72   1   1   0  \n",
       "581                  0.96   3   3   0  \n",
       "..                    ...  ..  ..  ..  \n",
       "86                   0.54   0   0   0  \n",
       "229                  0.44   1   1   0  \n",
       "891                  0.43   0   0   0  \n",
       "507                  3.04   2   2   0  \n",
       "737                  1.05   1   1   0  \n",
       "\n",
       "[105 rows x 9 columns]"
      ]
     },
     "execution_count": 12,
     "metadata": {},
     "output_type": "execute_result"
    }
   ],
   "source": [
    "X_test.loc[X_test['不同'] == 0]"
   ]
  },
  {
   "cell_type": "code",
   "execution_count": 13,
   "metadata": {},
   "outputs": [],
   "source": [
    "# Extract single tree\n",
    "estimator_limited = rfc.estimators_[9]\n",
    "\n",
    "from sklearn.tree import export_graphviz\n",
    "export_graphviz(estimator_limited, out_file='tree_limited.doc', feature_names = X_train.columns,\n",
    "                class_names = [str(i) for i in y_test.unique()],\n",
    "                rounded = True, proportion = False, precision = 2, filled = True)"
   ]
  },
  {
   "cell_type": "code",
   "execution_count": 14,
   "metadata": {},
   "outputs": [
    {
     "data": {
      "image/jpeg": "[encoded data removed]",
      "text/plain": [
       "<IPython.core.display.Image object>"
      ]
     },
     "execution_count": 14,
     "metadata": {},
     "output_type": "execute_result"
    }
   ],
   "source": [
    "from IPython.display import Image\n",
    "Image(filename = 'tree_limited.jpg')"
   ]
  },
  {
   "cell_type": "code",
   "execution_count": 15,
   "metadata": {},
   "outputs": [],
   "source": [
    "from xgboost import XGBClassifier"
   ]
  },
  {
   "cell_type": "code",
   "execution_count": 16,
   "metadata": {},
   "outputs": [],
   "source": [
    "X_train1, X_test1, y_train1, y_test1 = train_test_split(X, y, test_size=0.25)"
   ]
  },
  {
   "cell_type": "code",
   "execution_count": 17,
   "metadata": {},
   "outputs": [
    {
     "name": "stderr",
     "output_type": "stream",
     "text": [
      "C:\\Users\\HP\\anaconda3\\lib\\site-packages\\xgboost\\sklearn.py:888: UserWarning: The use of label encoder in XGBClassifier is deprecated and will be removed in a future release. To remove this warning, do the following: 1) Pass option use_label_encoder=False when constructing XGBClassifier object; and 2) Encode your labels (y) as integers starting with 0, i.e. 0, 1, 2, ..., [num_class - 1].\n",
      "  warnings.warn(label_encoder_deprecation_msg, UserWarning)\n"
     ]
    },
    {
     "name": "stdout",
     "output_type": "stream",
     "text": [
      "[18:52:24] WARNING: ..\\src\\learner.cc:1061: Starting in XGBoost 1.3.0, the default evaluation metric used with the objective 'multi:softprob' was changed from 'merror' to 'mlogloss'. Explicitly set eval_metric if you'd like to restore the old behavior.\n"
     ]
    },
    {
     "data": {
      "text/plain": [
       "XGBClassifier(base_score=0.5, booster='gbtree', colsample_bylevel=1,\n",
       "              colsample_bynode=1, colsample_bytree=1, gamma=0, gpu_id=-1,\n",
       "              importance_type='gain', interaction_constraints='',\n",
       "              learning_rate=0.300000012, max_delta_step=0, max_depth=6,\n",
       "              min_child_weight=1, missing=nan, monotone_constraints='()',\n",
       "              n_estimators=100, n_jobs=4, num_parallel_tree=1,\n",
       "              objective='multi:softprob', random_state=0, reg_alpha=0,\n",
       "              reg_lambda=1, scale_pos_weight=None, subsample=1,\n",
       "              tree_method='exact', validate_parameters=1, verbosity=None)"
      ]
     },
     "execution_count": 17,
     "metadata": {},
     "output_type": "execute_result"
    }
   ],
   "source": [
    "xgbc = XGBClassifier()\n",
    "xgbc.fit(X_train1, y_train1)"
   ]
  },
  {
   "cell_type": "code",
   "execution_count": 18,
   "metadata": {},
   "outputs": [
    {
     "name": "stdout",
     "output_type": "stream",
     "text": [
      "The accuracy of eXtreme Gradient Boosting Classifier on testing set: 0.4206008583690987\n"
     ]
    }
   ],
   "source": [
    "print('The accuracy of eXtreme Gradient Boosting Classifier on testing set:', xgbc.score(X_test1, y_test1))"
   ]
  },
  {
   "cell_type": "code",
   "execution_count": 24,
   "metadata": {},
   "outputs": [],
   "source": [
    "imp=rfc.feature_importances_"
   ]
  },
  {
   "cell_type": "code",
   "execution_count": 25,
   "metadata": {},
   "outputs": [
    {
     "data": {
      "text/plain": [
       "array([0.22620134, 0.50257394, 0.07270531, 0.06806305, 0.07830209,\n",
       "       0.05215427])"
      ]
     },
     "execution_count": 25,
     "metadata": {},
     "output_type": "execute_result"
    }
   ],
   "source": [
    "imp"
   ]
  },
  {
   "cell_type": "code",
   "execution_count": 26,
   "metadata": {},
   "outputs": [
    {
     "data": {
      "text/plain": [
       "['ROA',\n",
       " 'ROE',\n",
       " 'Operating gross profit margin',\n",
       " 'cash flow',\n",
       " 'Debt ratio',\n",
       " 'Total asset turnover']"
      ]
     },
     "execution_count": 26,
     "metadata": {},
     "output_type": "execute_result"
    }
   ],
   "source": [
    "names=['ROA','ROE','Operating gross profit margin','cash flow','Debt ratio','Total asset turnover']\n",
    "names"
   ]
  },
  {
   "cell_type": "code",
   "execution_count": 27,
   "metadata": {},
   "outputs": [
    {
     "data": {
      "image/png": "[encoded data removed]",
      "text/plain": [
       "<Figure size 432x288 with 1 Axes>"
      ]
     },
     "metadata": {
      "needs_background": "light"
     },
     "output_type": "display_data"
    }
   ],
   "source": [
    "zip(imp,names)\n",
    "imp, names=zip(*sorted(zip(imp,names)))\n",
    "plt.barh(range(len(names)),imp,align='center')\n",
    "plt.yticks(range(len(names)),names)\n",
    "plt.title('importance of each feature')\n",
    "plt.show()"
   ]
  },
  {
   "cell_type": "code",
   "execution_count": 28,
   "metadata": {},
   "outputs": [],
   "source": [
    "from sklearn.cluster import KMeans\n",
    "import numpy as np\n",
    "import matplotlib.pyplot as plt"
   ]
  },
  {
   "cell_type": "code",
   "execution_count": null,
   "metadata": {},
   "outputs": [],
   "source": [
    "df1 = pd.read_csv('C:/Users/HP/Desktop/mldata/mldata_CLEAN.csv')\n",
    "df1"
   ]
  },
  {
   "cell_type": "code",
   "execution_count": null,
   "metadata": {},
   "outputs": [],
   "source": [
    "KM=KMeans(n_clusters=4)\n",
    "df2=df1[['Operating gross profit margin','Debt ratio']]\n",
    "KM.fit(df1[['Operating gross profit margin','Debt ratio']])"
   ]
  },
  {
   "cell_type": "code",
   "execution_count": null,
   "metadata": {
    "scrolled": true
   },
   "outputs": [],
   "source": [
    "KM.predict(df2)"
   ]
  },
  {
   "cell_type": "code",
   "execution_count": null,
   "metadata": {},
   "outputs": [],
   "source": [
    "a = df2[['Operating gross profit margin']]\n",
    "\n",
    "b = df2[['Debt ratio']]"
   ]
  },
  {
   "cell_type": "code",
   "execution_count": null,
   "metadata": {},
   "outputs": [],
   "source": [
    "plt.scatter(a,b,c=KM.predict(df2))"
   ]
  },
  {
   "cell_type": "code",
   "execution_count": null,
   "metadata": {},
   "outputs": [],
   "source": [
    "df2 = pd.read_csv('C:/Users/HP/Desktop/mldata/mdata.csv')\n",
    "df2"
   ]
  },
  {
   "cell_type": "code",
   "execution_count": null,
   "metadata": {},
   "outputs": [],
   "source": [
    "KM=KMeans(n_clusters=4)\n",
    "df3=df2[['ROA','ROE','Operating gross profit margin','cash flow','Debt ratio','Total asset turnover']]\n",
    "KM.fit(df3)"
   ]
  },
  {
   "cell_type": "code",
   "execution_count": null,
   "metadata": {},
   "outputs": [],
   "source": [
    "KM.predict(df3)"
   ]
  },
  {
   "cell_type": "code",
   "execution_count": null,
   "metadata": {},
   "outputs": [],
   "source": [
    "d = df3[['cash flow']]\n",
    "\n",
    "e = df3[['Debt ratio']]"
   ]
  },
  {
   "cell_type": "code",
   "execution_count": null,
   "metadata": {},
   "outputs": [],
   "source": [
    "plt.scatter(d,e,c=KM.predict(df3))"
   ]
  },
  {
   "cell_type": "code",
   "execution_count": null,
   "metadata": {},
   "outputs": [],
   "source": []
  }
 ],
 "metadata": {
  "kernelspec": {
   "display_name": "Python 3",
   "language": "python",
   "name": "python3"
  },
  "language_info": {
   "codemirror_mode": {
    "name": "ipython",
    "version": 3
   },
   "file_extension": ".py",
   "mimetype": "text/x-python",
   "name": "python",
   "nbconvert_exporter": "python",
   "pygments_lexer": "ipython3",
   "version": "3.8.5"
  }
 },
 "nbformat": 4,
 "nbformat_minor": 4
}
